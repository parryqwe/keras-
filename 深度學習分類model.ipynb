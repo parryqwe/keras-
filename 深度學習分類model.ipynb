{
 "cells": [
  {
   "cell_type": "code",
   "execution_count": null,
   "metadata": {},
   "outputs": [],
   "source": [
    "precisiones_globales=[]\n",
    "epochs = 25 # Números de épocas\n",
    "def graf_model(train_history):\n",
    "    f = plt.figure(figsize=(15,10))\n",
    "    ax = f.add_subplot(121)\n",
    "    ax2 = f.add_subplot(122)\n",
    "    # summarize history for accuracy\n",
    "    ax.plot(train_history.history['binary_accuracy'])\n",
    "    ax.plot(train_history.history['val_binary_accuracy'])\n",
    "    ax.set_title('Model Accuracy')\n",
    "    ax.set_ylabel('Accuracy')\n",
    "    ax.set_xlabel('Epoch')\n",
    "    ax.legend(['train', 'test'], loc='upper left')\n",
    "    # summarize history for loss\n",
    "    ax2.plot(train_history.history['loss'])\n",
    "    ax2.plot(train_history.history['val_loss'])\n",
    "    ax2.set_title('Model Loss')\n",
    "    ax2.set_ylabel('loss')\n",
    "    ax2.set_xlabel('epoch')\n",
    "    ax2.legend(['train', 'test'], loc='upper left')\n",
    "    plt.show()\n",
    "def precision(model, registrar=False):\n",
    "    y_pred = model.predict(train_dfX)\n",
    "    train_auc = roc_auc_score(train_dfY, y_pred)\n",
    "    y_pred = model.predict(val_dfX)\n",
    "    val_auc = roc_auc_score(val_dfY, y_pred)\n",
    "    print('Train AUC: ', train_auc)\n",
    "    print('Test AUC: ', val_auc)\n",
    "    if registrar:\n",
    "        precisiones_globales.append([train_auc,val_auc])"
   ]
  },
  {
   "cell_type": "code",
   "execution_count": null,
   "metadata": {},
   "outputs": [],
   "source": [
    "sc = StandardScaler()\n",
    "train_dfX = sc.fit_transform(train_dfX)\n",
    "test_df = sc.transform(test_df)\n",
    "print(\"Test shape : \",test_df.shape)"
   ]
  },
  {
   "cell_type": "code",
   "execution_count": null,
   "metadata": {},
   "outputs": [],
   "source": [
    "train_dfX,val_dfX,train_dfY, val_dfY = train_test_split(train_dfX,train_dfY , test_size=0.15, stratify=train_dfY)\n",
    "print(\"Tamaño set de Entrenamiento: \",train_dfX.shape)\n",
    "print(\"Tamaño set de Validacion : \",val_dfX.shape)"
   ]
  },
  {
   "cell_type": "code",
   "execution_count": null,
   "metadata": {},
   "outputs": [],
   "source": [
    "def func_model():\n",
    "    inp = Input(shape=(15,)) #19\n",
    "    x=Dropout(0.15)(inp)\n",
    "    x=Dense(1200, activation=\"relu\", kernel_initializer='random_uniform', bias_initializer='zeros', kernel_regularizer=regularizers.l2(0.01))(inp)\n",
    "    x=Dropout(0.70)(x)\n",
    "    x=Dense(1200, activation=\"relu\", kernel_initializer='random_uniform', bias_initializer='zeros', kernel_regularizer=regularizers.l2(0.01))(x)\n",
    "    x=Dropout(0.70)(x)\n",
    "    x=Dense(1200, activation=\"relu\",  kernel_initializer='random_uniform', bias_initializer='zeros', kernel_regularizer=regularizers.l2(0.01))(x) \n",
    "    x=Dropout(0.10)(x)\n",
    "    x=Dense(1, activation=\"sigmoid\", kernel_initializer='random_uniform', bias_initializer='zeros')(x)\n",
    "    model = Model(inputs=inp, outputs=x)\n",
    "    model.compile(loss='binary_crossentropy', optimizer=optimizers.Adam(lr=0.0002), metrics=['binary_accuracy'])\n",
    "    return model\n",
    "model = func_model()\n",
    "print(model.summary())"
   ]
  },
  {
   "cell_type": "code",
   "execution_count": null,
   "metadata": {},
   "outputs": [],
   "source": [
    "train_history = model.fit(train_dfX, train_dfY, batch_size=64, epochs=epochs, validation_data=(val_dfX, val_dfY))"
   ]
  },
  {
   "cell_type": "code",
   "execution_count": null,
   "metadata": {},
   "outputs": [],
   "source": [
    "graf_model(train_history)"
   ]
  },
  {
   "cell_type": "code",
   "execution_count": null,
   "metadata": {},
   "outputs": [],
   "source": [
    "precision(model, True)"
   ]
  }
 ],
 "metadata": {
  "kernelspec": {
   "display_name": "Python 3",
   "language": "python",
   "name": "python3"
  },
  "language_info": {
   "codemirror_mode": {
    "name": "ipython",
    "version": 3
   },
   "file_extension": ".py",
   "mimetype": "text/x-python",
   "name": "python",
   "nbconvert_exporter": "python",
   "pygments_lexer": "ipython3",
   "version": "3.7.3"
  }
 },
 "nbformat": 4,
 "nbformat_minor": 2
}
